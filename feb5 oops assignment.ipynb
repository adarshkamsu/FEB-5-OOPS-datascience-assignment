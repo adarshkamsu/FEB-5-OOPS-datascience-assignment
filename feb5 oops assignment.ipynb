{
 "cells": [
  {
   "cell_type": "markdown",
   "id": "524929d7-51ae-48b4-bd27-1e776812e2a8",
   "metadata": {},
   "source": [
    "#### Q1. Explain Class and Object with respect to Object-Oriented Programming. Give a suitable example."
   ]
  },
  {
   "cell_type": "code",
   "execution_count": 1,
   "id": "693779b6-b605-4663-a9f3-a249ae1853c2",
   "metadata": {},
   "outputs": [],
   "source": [
    "#  In Object-Oriented Programming (OOP), a class is a blueprint for creating objects that define the properties and methods that an object can have."
   ]
  },
  {
   "cell_type": "code",
   "execution_count": 2,
   "id": "0b2d0f44-a248-4fdd-87dd-044b4cb75bc5",
   "metadata": {},
   "outputs": [],
   "source": [
    "#  An object, is an instance of a class that can store data and perform actions based on the properties and methods defined in the class."
   ]
  },
  {
   "cell_type": "code",
   "execution_count": 3,
   "id": "39e133b9-e11a-4a36-b461-d4687d04fd52",
   "metadata": {},
   "outputs": [],
   "source": [
    "class Car:\n",
    "    def __init__(self, color, model, make, year, speed):\n",
    "        self.color = color\n",
    "        self.model = model\n",
    "        self.make = make\n",
    "        self.year = year\n",
    "        self.speed = speed\n",
    "\n",
    "\n",
    "car1 = Car(\"blue\", \"SUV\", \"Toyota\", 2022, 0)\n",
    "car2 = Car(\"red\", \"Coupe\", \"BMW\", 2021, 0)\n",
    "\n",
    "\n"
   ]
  },
  {
   "cell_type": "code",
   "execution_count": 5,
   "id": "a174e8e7-e62f-415e-bf1b-2f1542ba9ab0",
   "metadata": {},
   "outputs": [
    {
     "data": {
      "text/plain": [
       "'blue'"
      ]
     },
     "execution_count": 5,
     "metadata": {},
     "output_type": "execute_result"
    }
   ],
   "source": [
    "car1.color"
   ]
  },
  {
   "cell_type": "code",
   "execution_count": 6,
   "id": "2534e603-f162-446f-8cc7-3eed296475f1",
   "metadata": {},
   "outputs": [
    {
     "data": {
      "text/plain": [
       "0"
      ]
     },
     "execution_count": 6,
     "metadata": {},
     "output_type": "execute_result"
    }
   ],
   "source": [
    "car2.speed"
   ]
  },
  {
   "cell_type": "code",
   "execution_count": null,
   "id": "fafdd779-2429-4487-8577-25f8509bed60",
   "metadata": {},
   "outputs": [],
   "source": []
  },
  {
   "cell_type": "markdown",
   "id": "6fc67a3b-f80a-4c56-ba23-e72769605896",
   "metadata": {},
   "source": [
    "####  Q2. Name the four pillars of OOPs."
   ]
  },
  {
   "cell_type": "code",
   "execution_count": 8,
   "id": "01459607-0279-482b-a3c9-048c61a07b8b",
   "metadata": {},
   "outputs": [],
   "source": [
    "#  Encapsulation,Inheritance,Polymorphism,Abstraction"
   ]
  },
  {
   "cell_type": "code",
   "execution_count": null,
   "id": "a406749e-4853-4add-8c25-d347dadc7b2f",
   "metadata": {},
   "outputs": [],
   "source": []
  },
  {
   "cell_type": "markdown",
   "id": "2bbc6cb2-7049-4420-8b8b-c8f2b306da5d",
   "metadata": {},
   "source": [
    "####  Q3. Explain why the __init__() function is used. Give a suitable example."
   ]
  },
  {
   "cell_type": "code",
   "execution_count": 9,
   "id": "69b01854-7d4f-48ee-8f69-565edc4da5ce",
   "metadata": {},
   "outputs": [],
   "source": [
    "###   __init__() function is used to  it  always try to take a data while creating the objects.\n",
    "###   init is nothing but a, its a construtor. its a in-built function"
   ]
  },
  {
   "cell_type": "code",
   "execution_count": 10,
   "id": "1073d3e4-b81a-4ab2-b22f-a6c2b321b603",
   "metadata": {},
   "outputs": [
    {
     "name": "stdout",
     "output_type": "stream",
     "text": [
      "Hi, my name is Alice and I am 25 years old.\n",
      "Hi, my name is Bob and I am 30 years old.\n"
     ]
    }
   ],
   "source": [
    "class Person:\n",
    "    def __init__(self, name, age):\n",
    "        self.name = name\n",
    "        self.age = age\n",
    "\n",
    "    def introduce(self):\n",
    "        print(\"Hi, my name is\", self.name, \"and I am\", self.age, \"years old.\")\n",
    "\n",
    "person1 = Person(\"Alice\", 25)\n",
    "person2 = Person(\"Bob\", 30)\n",
    "\n",
    "person1.introduce()  # Output: Hi, my name is Alice and I am 25 years old.\n",
    "person2.introduce()  # Output: Hi, my name is Bob and I am 30 years old.\n"
   ]
  },
  {
   "cell_type": "code",
   "execution_count": null,
   "id": "951fc7b0-7852-4a3c-8ebe-d66347125f6b",
   "metadata": {},
   "outputs": [],
   "source": []
  },
  {
   "cell_type": "markdown",
   "id": "4ec4ddca-568a-4e2c-950d-eae2f374e51d",
   "metadata": {},
   "source": [
    "#### Q4. Why self is used in OOPs?"
   ]
  },
  {
   "cell_type": "code",
   "execution_count": 11,
   "id": "858f31e2-efb8-4811-966e-905efefefd37",
   "metadata": {},
   "outputs": [],
   "source": [
    "#  here self is nothing but a pointer or a reference which points to the class."
   ]
  },
  {
   "cell_type": "code",
   "execution_count": 12,
   "id": "280efbee-e9a3-42bd-9df4-fd0291118c4c",
   "metadata": {},
   "outputs": [],
   "source": [
    "##  \"Self\" is a reference to the object that the method or attribute belongs to, and allows the object to access its own properties and methods."
   ]
  },
  {
   "cell_type": "code",
   "execution_count": null,
   "id": "faa5ea37-8a5b-4b39-9ed4-dab5a9cb17c9",
   "metadata": {},
   "outputs": [],
   "source": []
  },
  {
   "cell_type": "markdown",
   "id": "727bf20b-fd2d-4952-89bc-fd9ae654b301",
   "metadata": {},
   "source": [
    "####  Q5. What is inheritance? Give an example for each type of inheritance."
   ]
  },
  {
   "cell_type": "code",
   "execution_count": 13,
   "id": "9afbeef8-46b4-418e-9d5d-2569e1222dae",
   "metadata": {},
   "outputs": [],
   "source": [
    "##  Inheritance is a mechanism in object-oriented programming that allows a new class to be based on an existing class, inheriting some or all of its properties and methods. The existing class is called the superclass or base class, while the new class is called the subclass or derived class. "
   ]
  },
  {
   "cell_type": "code",
   "execution_count": 14,
   "id": "e70e5706-09a1-45b4-acb0-236688555881",
   "metadata": {},
   "outputs": [],
   "source": [
    "##  1. Single Inheritance: In single inheritance, a subclass inherits properties and methods from a single parent class."
   ]
  },
  {
   "cell_type": "code",
   "execution_count": 15,
   "id": "597132bd-f6d3-47d1-b0f1-cb43846dda63",
   "metadata": {},
   "outputs": [],
   "source": [
    "##  2. Multiple Inheritance: In multiple inheritance, a subclass inherits properties and methods from multiple parent classes."
   ]
  },
  {
   "cell_type": "code",
   "execution_count": 16,
   "id": "78919f88-137d-4156-8006-0be912ae1dcb",
   "metadata": {},
   "outputs": [],
   "source": [
    "##  3. Hierarchical Inheritance: In hierarchical inheritance, multiple child classes inherit properties and methods from a single parent class."
   ]
  },
  {
   "cell_type": "code",
   "execution_count": null,
   "id": "3178ac92-2875-4d5b-86ae-8d6d42f22dbf",
   "metadata": {},
   "outputs": [],
   "source": []
  }
 ],
 "metadata": {
  "kernelspec": {
   "display_name": "Python 3 (ipykernel)",
   "language": "python",
   "name": "python3"
  },
  "language_info": {
   "codemirror_mode": {
    "name": "ipython",
    "version": 3
   },
   "file_extension": ".py",
   "mimetype": "text/x-python",
   "name": "python",
   "nbconvert_exporter": "python",
   "pygments_lexer": "ipython3",
   "version": "3.10.8"
  }
 },
 "nbformat": 4,
 "nbformat_minor": 5
}
